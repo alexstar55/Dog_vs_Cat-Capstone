{
 "cells": [
  {
   "attachments": {},
   "cell_type": "markdown",
   "metadata": {},
   "source": [
    "## 用到的软件\n",
    "使用了keras(基于tensorflow), numpy, pandas, matplotlib, h5py等模块。\n",
    "\n",
    "## 数据集\n",
    "数据集来自https://www.kaggle.com/c/dogs-vs-cats-redux-kernels-edition/data\n",
    "## 运行时间与截图\n",
    "我的电脑是GTX1060，ｉ７CPU，使用驱动384.130，CUDA9.0，cuDNN7.0。\n",
    "takeFeatures运行时间约１５～２０分钟，其余文件训练运行时间在５分钟以内。\n",
    "相关截图请见截图文件夹"
   ]
  },
  {
   "cell_type": "code",
   "execution_count": null,
   "metadata": {},
   "outputs": [],
   "source": []
  }
 ],
 "metadata": {
  "kernelspec": {
   "display_name": "Python 3",
   "language": "python",
   "name": "python3"
  },
  "language_info": {
   "codemirror_mode": {
    "name": "ipython",
    "version": 3
   },
   "file_extension": ".py",
   "mimetype": "text/x-python",
   "name": "python",
   "nbconvert_exporter": "python",
   "pygments_lexer": "ipython3",
   "version": "3.6.2"
  }
 },
 "nbformat": 4,
 "nbformat_minor": 2
}
