{
 "cells": [
  {
   "cell_type": "code",
   "execution_count": 3,
   "metadata": {
    "scrolled": true
   },
   "outputs": [
    {
     "name": "stdout",
     "output_type": "stream",
     "text": [
      "Found 25000 images belonging to 2 classes.\n",
      "Found 12500 images belonging to 1 classes.\n",
      "Found 25000 images belonging to 2 classes.\n",
      "Found 12500 images belonging to 1 classes.\n",
      "Found 25000 images belonging to 2 classes.\n",
      "Found 12500 images belonging to 1 classes.\n"
     ]
    },
    {
     "data": {
      "text/plain": [
       "'\\n#def take_feature(Model_pre):\\n#    print(\"features_%s.h5\"%Model_pre.__name__)\\n#take_feature(VGG19)\\n'"
      ]
     },
     "execution_count": 3,
     "metadata": {},
     "output_type": "execute_result"
    }
   ],
   "source": [
    "\n",
    "from keras.models import *\n",
    "from keras.layers import *\n",
    "from keras.applications import *\n",
    "from keras.preprocessing.image import *\n",
    "import h5py\n",
    "\n",
    "def take_feature(Model_pre, image_size, lambda_f=None):\n",
    "    width = image_size[0]\n",
    "    height = image_size[1]\n",
    "    inputs = Input((height, width, 3))\n",
    "    if lambda_f:       #模型中有处理输入的情况\n",
    "        inputs = Lambda(lambda_f)(inputs)\n",
    "    \n",
    "    gen = ImageDataGenerator()\n",
    "    train_gen = gen.flow_from_directory(\"trainS\", image_size, shuffle=False, \n",
    "                                              batch_size=16)\n",
    "    test_gen = gen.flow_from_directory(\"testS\", image_size, shuffle=False, \n",
    "                                             batch_size=16, class_mode=None)\n",
    "    \n",
    "    base = Model_pre(input_tensor=inputs, weights='imagenet', include_top=False)\n",
    "    model = Model(base.input, GlobalAveragePooling2D()(base.output))\n",
    "    \n",
    "    train = model.predict_generator(train_gen)\n",
    "    test = model.predict_generator(test_gen)\n",
    "    with h5py.File(\"features_%s.h5\"%Model_pre.__name__) as h:\n",
    "        h.create_dataset(\"train\", data=train)\n",
    "        h.create_dataset(\"test\", data=test)\n",
    "        h.create_dataset(\"label\", data=train_gen.classes)\n",
    "\n",
    "take_feature(VGG19, (224, 224),vgg19.preprocess_input)\n",
    "take_feature(InceptionResNetV2, (299, 299), inception_resnet_v2.preprocess_input)\n",
    "take_feature(Xception, (299, 299), xception.preprocess_input)\n",
    "'''\n",
    "#def take_feature(Model_pre):\n",
    "#    print(\"features_%s.h5\"%Model_pre.__name__)\n",
    "#take_feature(VGG19)\n",
    "'''"
   ]
  },
  {
   "cell_type": "code",
   "execution_count": null,
   "metadata": {},
   "outputs": [],
   "source": []
  }
 ],
 "metadata": {
  "kernelspec": {
   "display_name": "Python 3",
   "language": "python",
   "name": "python3"
  },
  "language_info": {
   "codemirror_mode": {
    "name": "ipython",
    "version": 3
   },
   "file_extension": ".py",
   "mimetype": "text/x-python",
   "name": "python",
   "nbconvert_exporter": "python",
   "pygments_lexer": "ipython3",
   "version": "3.6.2"
  }
 },
 "nbformat": 4,
 "nbformat_minor": 2
}
